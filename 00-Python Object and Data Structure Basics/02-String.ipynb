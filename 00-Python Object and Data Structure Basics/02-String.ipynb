{
 "cells": [
  {
   "cell_type": "markdown",
   "id": "f5180657-b908-4211-903e-9fd394f2dca7",
   "metadata": {},
   "source": [
    "Creating a String"
   ]
  },
  {
   "cell_type": "code",
   "execution_count": 2,
   "id": "48bdd062-bdd2-41b5-ae3d-67e866c9031e",
   "metadata": {},
   "outputs": [
    {
     "data": {
      "text/plain": [
       "'hello'"
      ]
     },
     "execution_count": 2,
     "metadata": {},
     "output_type": "execute_result"
    }
   ],
   "source": [
    "#Single word\n",
    "'hello'"
   ]
  },
  {
   "cell_type": "code",
   "execution_count": 4,
   "id": "d3f6175d-728c-4247-a9e2-ca3cf9707630",
   "metadata": {},
   "outputs": [
    {
     "data": {
      "text/plain": [
       "'This is also a string'"
      ]
     },
     "execution_count": 4,
     "metadata": {},
     "output_type": "execute_result"
    }
   ],
   "source": [
    "#Entire phase\n",
    "'This is also a string'"
   ]
  },
  {
   "cell_type": "code",
   "execution_count": 6,
   "id": "34f97cd6-a1af-44b8-813e-de54f73172c1",
   "metadata": {},
   "outputs": [
    {
     "data": {
      "text/plain": [
       "'String built with double quotes'"
      ]
     },
     "execution_count": 6,
     "metadata": {},
     "output_type": "execute_result"
    }
   ],
   "source": [
    "#we can also use double quotes\n",
    "\"String built with double quotes\""
   ]
  },
  {
   "cell_type": "code",
   "execution_count": 8,
   "id": "675a2dde-9c63-4047-954c-a99db2008b9d",
   "metadata": {},
   "outputs": [
    {
     "ename": "SyntaxError",
     "evalue": "unterminated string literal (detected at line 2) (998317507.py, line 2)",
     "output_type": "error",
     "traceback": [
      "\u001b[1;36m  Cell \u001b[1;32mIn[8], line 2\u001b[1;36m\u001b[0m\n\u001b[1;33m    'i'am using single quotes,but this will create an error'\u001b[0m\n\u001b[1;37m                                                           ^\u001b[0m\n\u001b[1;31mSyntaxError\u001b[0m\u001b[1;31m:\u001b[0m unterminated string literal (detected at line 2)\n"
     ]
    }
   ],
   "source": [
    "# be careful with quotes \n",
    "'i'am using single quotes,but this will create an error'"
   ]
  },
  {
   "cell_type": "code",
   "execution_count": 10,
   "id": "fba88dca-cf88-4f24-a501-7eca965e6b1b",
   "metadata": {},
   "outputs": [
    {
     "data": {
      "text/plain": [
       "\"i'am using single quotes ,but this will create an error\""
      ]
     },
     "execution_count": 10,
     "metadata": {},
     "output_type": "execute_result"
    }
   ],
   "source": [
    "\"i'am using single quotes ,but this will create an error\""
   ]
  },
  {
   "cell_type": "markdown",
   "id": "b8fb12d1-f19b-43f3-a3f7-a186501df085",
   "metadata": {},
   "source": [
    "Printing a String"
   ]
  },
  {
   "cell_type": "code",
   "execution_count": 13,
   "id": "98662d0c-ca8f-4b86-9be1-1acc01185f4a",
   "metadata": {},
   "outputs": [
    {
     "data": {
      "text/plain": [
       "'Hello world'"
      ]
     },
     "execution_count": 13,
     "metadata": {},
     "output_type": "execute_result"
    }
   ],
   "source": [
    "'Hello world'"
   ]
  },
  {
   "cell_type": "code",
   "execution_count": 15,
   "id": "33c389bb-17b2-46ba-a7dc-a009a1cb3c9e",
   "metadata": {},
   "outputs": [
    {
     "data": {
      "text/plain": [
       "'hello world2'"
      ]
     },
     "execution_count": 15,
     "metadata": {},
     "output_type": "execute_result"
    }
   ],
   "source": [
    "'hello world1'\n",
    "'hello world2'"
   ]
  },
  {
   "cell_type": "code",
   "execution_count": 17,
   "id": "881d8d15-1d9c-491e-b467-0b9cdf9a23f9",
   "metadata": {},
   "outputs": [
    {
     "name": "stdout",
     "output_type": "stream",
     "text": [
      "hello world1\n",
      "hello world2\n"
     ]
    }
   ],
   "source": [
    "print(\"hello world1\")\n",
    "print(\"hello world2\")"
   ]
  },
  {
   "cell_type": "code",
   "execution_count": 19,
   "id": "46ab8fb5-7b70-4096-9a74-796b66da4c4f",
   "metadata": {},
   "outputs": [
    {
     "name": "stdout",
     "output_type": "stream",
     "text": [
      "Hello World 1\n",
      "Hello World 2\n",
      "Use \n",
      " to print a new line\n",
      "\n",
      "\n",
      "See what I mean?\n"
     ]
    }
   ],
   "source": [
    "print('Hello World 1')\n",
    "print('Hello World 2')\n",
    "print('Use \\n to print a new line')\n",
    "print('\\n')\n",
    "print('See what I mean?')"
   ]
  },
  {
   "cell_type": "markdown",
   "id": "8d58ffa9-e213-42c5-84d8-8845a1f7bb70",
   "metadata": {},
   "source": [
    "len function"
   ]
  },
  {
   "cell_type": "code",
   "execution_count": 22,
   "id": "118576fb-17ad-4141-a18e-c5cd8ee672a0",
   "metadata": {},
   "outputs": [
    {
     "data": {
      "text/plain": [
       "11"
      ]
     },
     "execution_count": 22,
     "metadata": {},
     "output_type": "execute_result"
    }
   ],
   "source": [
    "len('Hello World')"
   ]
  },
  {
   "cell_type": "markdown",
   "id": "7d3447e6-e9cd-4d9c-b80a-da478fc4b497",
   "metadata": {},
   "source": [
    "String indexing"
   ]
  },
  {
   "cell_type": "code",
   "execution_count": 25,
   "id": "109f3115-1b34-468f-9209-9f19c705a6c4",
   "metadata": {},
   "outputs": [],
   "source": [
    "s='Hello World'"
   ]
  },
  {
   "cell_type": "code",
   "execution_count": 27,
   "id": "d4913894-3956-47c5-b591-1983f8842b76",
   "metadata": {},
   "outputs": [
    {
     "data": {
      "text/plain": [
       "'Hello World'"
      ]
     },
     "execution_count": 27,
     "metadata": {},
     "output_type": "execute_result"
    }
   ],
   "source": [
    "s"
   ]
  },
  {
   "cell_type": "code",
   "execution_count": 29,
   "id": "2663257d-d4d7-4b42-967a-50ac085c20cc",
   "metadata": {},
   "outputs": [
    {
     "name": "stdout",
     "output_type": "stream",
     "text": [
      "Hello World\n"
     ]
    }
   ],
   "source": [
    "print(s)"
   ]
  },
  {
   "cell_type": "code",
   "execution_count": 31,
   "id": "5a4c1a22-f4c9-41df-8b25-d537d144b439",
   "metadata": {},
   "outputs": [
    {
     "data": {
      "text/plain": [
       "'H'"
      ]
     },
     "execution_count": 31,
     "metadata": {},
     "output_type": "execute_result"
    }
   ],
   "source": [
    "s[0]"
   ]
  },
  {
   "cell_type": "code",
   "execution_count": 33,
   "id": "b1b8a1ac-c304-4c4c-bd13-06623ac6d7bb",
   "metadata": {},
   "outputs": [
    {
     "data": {
      "text/plain": [
       "'e'"
      ]
     },
     "execution_count": 33,
     "metadata": {},
     "output_type": "execute_result"
    }
   ],
   "source": [
    "s[1]"
   ]
  },
  {
   "cell_type": "markdown",
   "id": "8d7e1282-0683-45be-9db7-e86b7f14036f",
   "metadata": {},
   "source": [
    "We can use a : to perform slicing which grabs everything up to a designated point"
   ]
  },
  {
   "cell_type": "code",
   "execution_count": 36,
   "id": "431a93bc-4de3-4ba2-adc2-a3ade8af377e",
   "metadata": {},
   "outputs": [
    {
     "data": {
      "text/plain": [
       "'Hel'"
      ]
     },
     "execution_count": 36,
     "metadata": {},
     "output_type": "execute_result"
    }
   ],
   "source": [
    "s[:3]"
   ]
  },
  {
   "cell_type": "code",
   "execution_count": 38,
   "id": "5506dd3b-e7dd-4785-9637-707f307e1fd6",
   "metadata": {},
   "outputs": [
    {
     "data": {
      "text/plain": [
       "'Hello World'"
      ]
     },
     "execution_count": 38,
     "metadata": {},
     "output_type": "execute_result"
    }
   ],
   "source": [
    "s[:]"
   ]
  },
  {
   "cell_type": "code",
   "execution_count": 40,
   "id": "0adf5956-086e-4421-9525-1c53df8a4a9f",
   "metadata": {},
   "outputs": [
    {
     "data": {
      "text/plain": [
       "'d'"
      ]
     },
     "execution_count": 40,
     "metadata": {},
     "output_type": "execute_result"
    }
   ],
   "source": [
    "s[-1]"
   ]
  },
  {
   "cell_type": "code",
   "execution_count": 42,
   "id": "66901bd9-6bcc-4eca-b034-58032e7163eb",
   "metadata": {},
   "outputs": [
    {
     "data": {
      "text/plain": [
       "'Hello World'"
      ]
     },
     "execution_count": 42,
     "metadata": {},
     "output_type": "execute_result"
    }
   ],
   "source": [
    "s[::1]"
   ]
  },
  {
   "cell_type": "code",
   "execution_count": 44,
   "id": "f012166d-0d1a-4850-8c61-236fa7c3da72",
   "metadata": {},
   "outputs": [
    {
     "data": {
      "text/plain": [
       "'HloWrd'"
      ]
     },
     "execution_count": 44,
     "metadata": {},
     "output_type": "execute_result"
    }
   ],
   "source": [
    "s[::2]"
   ]
  },
  {
   "cell_type": "code",
   "execution_count": 46,
   "id": "c0de0c34-6556-47f8-9086-af7f7fe6da65",
   "metadata": {},
   "outputs": [
    {
     "data": {
      "text/plain": [
       "'HlWl'"
      ]
     },
     "execution_count": 46,
     "metadata": {},
     "output_type": "execute_result"
    }
   ],
   "source": [
    "s[::3]"
   ]
  },
  {
   "cell_type": "code",
   "execution_count": 48,
   "id": "e4d7de74-e1cd-4021-8dd9-0b29c892ebca",
   "metadata": {},
   "outputs": [
    {
     "data": {
      "text/plain": [
       "'dlroW olleH'"
      ]
     },
     "execution_count": 48,
     "metadata": {},
     "output_type": "execute_result"
    }
   ],
   "source": [
    "s[::-1]"
   ]
  },
  {
   "cell_type": "markdown",
   "id": "5f30dd37-d24d-442c-ae1e-bd5c36f86060",
   "metadata": {},
   "source": [
    "String Properties"
   ]
  },
  {
   "cell_type": "code",
   "execution_count": 51,
   "id": "5acc5bb1-bcbf-42c7-af74-90e7fba9aa64",
   "metadata": {},
   "outputs": [],
   "source": [
    "#immutability\n",
    "\n",
    "name='sam'"
   ]
  },
  {
   "cell_type": "code",
   "execution_count": 53,
   "id": "a288f1cd-83fa-4771-9761-12bcb17d2943",
   "metadata": {},
   "outputs": [
    {
     "data": {
      "text/plain": [
       "'sam'"
      ]
     },
     "execution_count": 53,
     "metadata": {},
     "output_type": "execute_result"
    }
   ],
   "source": [
    "name"
   ]
  },
  {
   "cell_type": "code",
   "execution_count": 55,
   "id": "5095fcf5-279b-4b24-9676-68fa6a5ffba4",
   "metadata": {},
   "outputs": [
    {
     "ename": "TypeError",
     "evalue": "'str' object does not support item assignment",
     "output_type": "error",
     "traceback": [
      "\u001b[1;31m---------------------------------------------------------------------------\u001b[0m",
      "\u001b[1;31mTypeError\u001b[0m                                 Traceback (most recent call last)",
      "Cell \u001b[1;32mIn[55], line 1\u001b[0m\n\u001b[1;32m----> 1\u001b[0m \u001b[43mname\u001b[49m\u001b[43m[\u001b[49m\u001b[38;5;241;43m0\u001b[39;49m\u001b[43m]\u001b[49m\u001b[38;5;241m=\u001b[39m\u001b[38;5;124m'\u001b[39m\u001b[38;5;124mp\u001b[39m\u001b[38;5;124m'\u001b[39m\n",
      "\u001b[1;31mTypeError\u001b[0m: 'str' object does not support item assignment"
     ]
    }
   ],
   "source": [
    "name[0]='p'"
   ]
  },
  {
   "cell_type": "code",
   "execution_count": 57,
   "id": "d017c071-6258-4597-93c0-e666ab105f68",
   "metadata": {},
   "outputs": [],
   "source": [
    "new_name=name[1:3]"
   ]
  },
  {
   "cell_type": "code",
   "execution_count": 59,
   "id": "3b2c26d4-3e05-4fdf-b6d5-08efae1775c6",
   "metadata": {},
   "outputs": [
    {
     "data": {
      "text/plain": [
       "'am'"
      ]
     },
     "execution_count": 59,
     "metadata": {},
     "output_type": "execute_result"
    }
   ],
   "source": [
    "new_name"
   ]
  },
  {
   "cell_type": "code",
   "execution_count": 61,
   "id": "6acf80e5-b11f-4af6-ae69-1bc69ad82c4e",
   "metadata": {},
   "outputs": [
    {
     "data": {
      "text/plain": [
       "'pam'"
      ]
     },
     "execution_count": 61,
     "metadata": {},
     "output_type": "execute_result"
    }
   ],
   "source": [
    "'p'+new_name"
   ]
  },
  {
   "cell_type": "code",
   "execution_count": 63,
   "id": "e509d70d-1063-4277-889e-6dd7191d058a",
   "metadata": {},
   "outputs": [],
   "source": [
    "letteer='z'"
   ]
  },
  {
   "cell_type": "code",
   "execution_count": 67,
   "id": "3027ad9c-82ef-4108-972f-349eff6803c2",
   "metadata": {},
   "outputs": [
    {
     "data": {
      "text/plain": [
       "'zzzzzzzzzz'"
      ]
     },
     "execution_count": 67,
     "metadata": {},
     "output_type": "execute_result"
    }
   ],
   "source": [
    "letteer*10"
   ]
  },
  {
   "cell_type": "markdown",
   "id": "1b822ecb-c473-4c44-a2a5-f4dbf7266b81",
   "metadata": {},
   "source": [
    "Basic Built-in String methoss"
   ]
  },
  {
   "cell_type": "code",
   "execution_count": 70,
   "id": "0ec26b2b-fe0e-4b23-9096-7b406bbf77ae",
   "metadata": {},
   "outputs": [
    {
     "data": {
      "text/plain": [
       "'sam'"
      ]
     },
     "execution_count": 70,
     "metadata": {},
     "output_type": "execute_result"
    }
   ],
   "source": [
    "name"
   ]
  },
  {
   "cell_type": "code",
   "execution_count": 72,
   "id": "a068bc43-e66d-4f11-bf64-7ee066d769c5",
   "metadata": {},
   "outputs": [
    {
     "data": {
      "text/plain": [
       "'SAM'"
      ]
     },
     "execution_count": 72,
     "metadata": {},
     "output_type": "execute_result"
    }
   ],
   "source": [
    "name.upper()"
   ]
  },
  {
   "cell_type": "code",
   "execution_count": 74,
   "id": "ead75156-6de9-4998-b5af-5234a07a146f",
   "metadata": {},
   "outputs": [
    {
     "data": {
      "text/plain": [
       "'sam'"
      ]
     },
     "execution_count": 74,
     "metadata": {},
     "output_type": "execute_result"
    }
   ],
   "source": [
    "name.lower()"
   ]
  },
  {
   "cell_type": "code",
   "execution_count": 76,
   "id": "e6c5acee-08c2-4a6c-899c-24788e19abf8",
   "metadata": {},
   "outputs": [
    {
     "data": {
      "text/plain": [
       "['sam']"
      ]
     },
     "execution_count": 76,
     "metadata": {},
     "output_type": "execute_result"
    }
   ],
   "source": [
    "name.split()"
   ]
  },
  {
   "cell_type": "code",
   "execution_count": 78,
   "id": "b269e3b5-04f5-4da5-9f0b-3f5e6eada37f",
   "metadata": {},
   "outputs": [
    {
     "data": {
      "text/plain": [
       "['s', 'm']"
      ]
     },
     "execution_count": 78,
     "metadata": {},
     "output_type": "execute_result"
    }
   ],
   "source": [
    "name.split('a')"
   ]
  },
  {
   "cell_type": "code",
   "execution_count": 80,
   "id": "35517926-eb5f-4d4b-936a-18a13b21848d",
   "metadata": {},
   "outputs": [
    {
     "data": {
      "text/plain": [
       "'manthan jayawant sawant'"
      ]
     },
     "execution_count": 80,
     "metadata": {},
     "output_type": "execute_result"
    }
   ],
   "source": [
    "'manthan jayawant {}'.format('sawant')"
   ]
  },
  {
   "cell_type": "code",
   "execution_count": null,
   "id": "3b33d0d2-90ad-4c68-8886-f9e7d3b8452f",
   "metadata": {},
   "outputs": [],
   "source": []
  }
 ],
 "metadata": {
  "kernelspec": {
   "display_name": "Python 3 (ipykernel)",
   "language": "python",
   "name": "python3"
  },
  "language_info": {
   "codemirror_mode": {
    "name": "ipython",
    "version": 3
   },
   "file_extension": ".py",
   "mimetype": "text/x-python",
   "name": "python",
   "nbconvert_exporter": "python",
   "pygments_lexer": "ipython3",
   "version": "3.12.7"
  }
 },
 "nbformat": 4,
 "nbformat_minor": 5
}
