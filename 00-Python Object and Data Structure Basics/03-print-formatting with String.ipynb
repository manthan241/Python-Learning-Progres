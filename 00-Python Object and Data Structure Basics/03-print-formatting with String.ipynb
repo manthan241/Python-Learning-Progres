{
 "cells": [
  {
   "cell_type": "markdown",
   "id": "5e4b817d-3b2c-4b9c-b021-c63784dfb1eb",
   "metadata": {},
   "source": [
    "FORMATTING  with .format() method"
   ]
  },
  {
   "cell_type": "code",
   "execution_count": 4,
   "id": "72265f24-0ded-44ed-b8a8-f670f1b6efa3",
   "metadata": {},
   "outputs": [
    {
     "name": "stdout",
     "output_type": "stream",
     "text": [
      "This is String inserted\n"
     ]
    }
   ],
   "source": [
    "print('This is String{}'.format(' inserted'))"
   ]
  },
  {
   "cell_type": "code",
   "execution_count": 6,
   "id": "a860fea1-87b9-4da9-b7f3-eb8aac2a7c19",
   "metadata": {},
   "outputs": [
    {
     "name": "stdout",
     "output_type": "stream",
     "text": [
      "The fox brown quick\n"
     ]
    }
   ],
   "source": [
    "print('The {} {} {}'.format('fox','brown','quick'))"
   ]
  },
  {
   "cell_type": "code",
   "execution_count": 8,
   "id": "6a33b21f-3a0d-4294-a4f2-62d20444982b",
   "metadata": {},
   "outputs": [
    {
     "name": "stdout",
     "output_type": "stream",
     "text": [
      "The quick brown fox\n"
     ]
    }
   ],
   "source": [
    "print('The {2} {1} {0}'.format('fox','brown','quick'))"
   ]
  },
  {
   "cell_type": "code",
   "execution_count": 10,
   "id": "daf9e3a7-6a72-47f7-820e-9c1c97e394f5",
   "metadata": {},
   "outputs": [
    {
     "name": "stdout",
     "output_type": "stream",
     "text": [
      "The quick brown fox\n"
     ]
    }
   ],
   "source": [
    "print('The {q} {b} {f}'.format(f='fox',b='brown',q='quick'))"
   ]
  },
  {
   "cell_type": "code",
   "execution_count": 12,
   "id": "a7dabc57-1e2f-49eb-8c8c-f9edaa8fee4c",
   "metadata": {},
   "outputs": [],
   "source": [
    "result=100/177"
   ]
  },
  {
   "cell_type": "code",
   "execution_count": 14,
   "id": "ca78f6c3-558d-41cb-98cc-eb17acfae60d",
   "metadata": {},
   "outputs": [
    {
     "data": {
      "text/plain": [
       "0.5649717514124294"
      ]
     },
     "execution_count": 14,
     "metadata": {},
     "output_type": "execute_result"
    }
   ],
   "source": [
    "result"
   ]
  },
  {
   "cell_type": "code",
   "execution_count": 18,
   "id": "ee2af64b-75b4-4827-9193-cb20672fd13f",
   "metadata": {},
   "outputs": [
    {
     "name": "stdout",
     "output_type": "stream",
     "text": [
      "The result was 0.5649717514124294\n"
     ]
    }
   ],
   "source": [
    "print(\"The result was {}\".format(result))"
   ]
  },
  {
   "cell_type": "code",
   "execution_count": 24,
   "id": "d60c6d10-eaf5-44c4-a47e-7b068dc8f047",
   "metadata": {},
   "outputs": [
    {
     "name": "stdout",
     "output_type": "stream",
     "text": [
      "The result was    0.56497\n"
     ]
    }
   ],
   "source": [
    "print(\"The result was {r:10.5f}\".format(r=result))"
   ]
  },
  {
   "cell_type": "code",
   "execution_count": 28,
   "id": "f379e514-df12-42a2-99cd-dcefeb969238",
   "metadata": {},
   "outputs": [],
   "source": [
    "name=\"manthan\""
   ]
  },
  {
   "cell_type": "code",
   "execution_count": 32,
   "id": "53f0938e-2e26-4e23-9215-9257ebf533ee",
   "metadata": {},
   "outputs": [
    {
     "name": "stdout",
     "output_type": "stream",
     "text": [
      "Hello,his name is manthan\n"
     ]
    }
   ],
   "source": [
    "print(f'Hello,his name is {name}')"
   ]
  },
  {
   "cell_type": "code",
   "execution_count": null,
   "id": "9ce9b512-032b-46b0-a516-e4eddd8f7b13",
   "metadata": {},
   "outputs": [],
   "source": []
  }
 ],
 "metadata": {
  "kernelspec": {
   "display_name": "Python 3 (ipykernel)",
   "language": "python",
   "name": "python3"
  },
  "language_info": {
   "codemirror_mode": {
    "name": "ipython",
    "version": 3
   },
   "file_extension": ".py",
   "mimetype": "text/x-python",
   "name": "python",
   "nbconvert_exporter": "python",
   "pygments_lexer": "ipython3",
   "version": "3.12.7"
  }
 },
 "nbformat": 4,
 "nbformat_minor": 5
}
