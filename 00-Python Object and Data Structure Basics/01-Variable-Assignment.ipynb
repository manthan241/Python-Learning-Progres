{
 "cells": [
  {
   "cell_type": "markdown",
   "id": "d65cd02a-7214-4f4e-b374-f900ccee5b69",
   "metadata": {},
   "source": [
    "Dynamic Typing"
   ]
  },
  {
   "cell_type": "code",
   "execution_count": 2,
   "id": "979c19a1-7da1-4e6b-ac63-e9eca305e87c",
   "metadata": {},
   "outputs": [],
   "source": [
    "my_dogs=2"
   ]
  },
  {
   "cell_type": "code",
   "execution_count": 4,
   "id": "19411e11-f1eb-4b28-8cbe-dc700f73d8c7",
   "metadata": {},
   "outputs": [
    {
     "data": {
      "text/plain": [
       "2"
      ]
     },
     "execution_count": 4,
     "metadata": {},
     "output_type": "execute_result"
    }
   ],
   "source": [
    "my_dogs"
   ]
  },
  {
   "cell_type": "code",
   "execution_count": 6,
   "id": "ab912e8c-b946-450d-b550-a091eaff16ad",
   "metadata": {},
   "outputs": [],
   "source": [
    "my_dogs=['sammy','Frankie']"
   ]
  },
  {
   "cell_type": "code",
   "execution_count": 8,
   "id": "15ba01a2-e198-4b3a-9058-11a91e50ce89",
   "metadata": {},
   "outputs": [
    {
     "data": {
      "text/plain": [
       "['sammy', 'Frankie']"
      ]
     },
     "execution_count": 8,
     "metadata": {},
     "output_type": "execute_result"
    }
   ],
   "source": [
    "my_dogs"
   ]
  },
  {
   "cell_type": "code",
   "execution_count": null,
   "id": "241fa9c2-7a48-4e1e-8beb-08c684eb52e2",
   "metadata": {},
   "outputs": [],
   "source": []
  }
 ],
 "metadata": {
  "kernelspec": {
   "display_name": "Python 3 (ipykernel)",
   "language": "python",
   "name": "python3"
  },
  "language_info": {
   "codemirror_mode": {
    "name": "ipython",
    "version": 3
   },
   "file_extension": ".py",
   "mimetype": "text/x-python",
   "name": "python",
   "nbconvert_exporter": "python",
   "pygments_lexer": "ipython3",
   "version": "3.12.7"
  }
 },
 "nbformat": 4,
 "nbformat_minor": 5
}
