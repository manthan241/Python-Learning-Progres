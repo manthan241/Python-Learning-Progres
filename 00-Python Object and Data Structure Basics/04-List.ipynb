{
 "cells": [
  {
   "cell_type": "code",
   "execution_count": 1,
   "id": "cceb4fc8-b4af-4210-aeee-623e9dc91522",
   "metadata": {},
   "outputs": [],
   "source": [
    "my_list=[1,2,3]"
   ]
  },
  {
   "cell_type": "code",
   "execution_count": 3,
   "id": "9732155d-c126-4253-b7a5-e475c2f3e50e",
   "metadata": {},
   "outputs": [],
   "source": [
    "my_list=['String',100,23.2]"
   ]
  },
  {
   "cell_type": "code",
   "execution_count": 5,
   "id": "a3ab629d-7610-4bc6-9e9a-5b74d00c2aa3",
   "metadata": {},
   "outputs": [
    {
     "data": {
      "text/plain": [
       "3"
      ]
     },
     "execution_count": 5,
     "metadata": {},
     "output_type": "execute_result"
    }
   ],
   "source": [
    "len(my_list)"
   ]
  },
  {
   "cell_type": "code",
   "execution_count": 7,
   "id": "57e622b5-1581-47c9-8dd4-569e82718af9",
   "metadata": {},
   "outputs": [],
   "source": [
    "mylist=['One','Two','Three']"
   ]
  },
  {
   "cell_type": "code",
   "execution_count": 9,
   "id": "2f7eafa0-3740-4abc-92dd-de4545c02998",
   "metadata": {},
   "outputs": [
    {
     "data": {
      "text/plain": [
       "['Two', 'Three']"
      ]
     },
     "execution_count": 9,
     "metadata": {},
     "output_type": "execute_result"
    }
   ],
   "source": [
    "mylist[1:]"
   ]
  },
  {
   "cell_type": "code",
   "execution_count": 11,
   "id": "63f2f322-7f3a-4357-a61b-6c81d717c9f8",
   "metadata": {},
   "outputs": [
    {
     "data": {
      "text/plain": [
       "['One', 'Two', 'Three']"
      ]
     },
     "execution_count": 11,
     "metadata": {},
     "output_type": "execute_result"
    }
   ],
   "source": [
    "mylist"
   ]
  },
  {
   "cell_type": "code",
   "execution_count": 13,
   "id": "18b5f5b2-10f4-4251-b6a8-c609fdccef45",
   "metadata": {},
   "outputs": [],
   "source": [
    "another_list=['four','Five']"
   ]
  },
  {
   "cell_type": "code",
   "execution_count": 15,
   "id": "a4e111b5-f8cb-4065-8de6-bb8b312ad9ed",
   "metadata": {},
   "outputs": [],
   "source": [
    "new_list=mylist+another_list"
   ]
  },
  {
   "cell_type": "code",
   "execution_count": 17,
   "id": "3945ceb7-4aa8-4b82-90cd-3b38d0e38c2d",
   "metadata": {},
   "outputs": [
    {
     "data": {
      "text/plain": [
       "['One', 'Two', 'Three', 'four', 'Five']"
      ]
     },
     "execution_count": 17,
     "metadata": {},
     "output_type": "execute_result"
    }
   ],
   "source": [
    "new_list"
   ]
  },
  {
   "cell_type": "code",
   "execution_count": 19,
   "id": "405e8de9-61b1-4f4d-be88-18d173143345",
   "metadata": {},
   "outputs": [],
   "source": [
    "new_list[0]='MI'"
   ]
  },
  {
   "cell_type": "code",
   "execution_count": 21,
   "id": "6011019b-a90f-4b07-b88f-6b345b871022",
   "metadata": {},
   "outputs": [
    {
     "data": {
      "text/plain": [
       "['MI', 'Two', 'Three', 'four', 'Five']"
      ]
     },
     "execution_count": 21,
     "metadata": {},
     "output_type": "execute_result"
    }
   ],
   "source": [
    "new_list"
   ]
  },
  {
   "cell_type": "code",
   "execution_count": 23,
   "id": "5449dc93-b007-44a4-9deb-c573349c2406",
   "metadata": {},
   "outputs": [],
   "source": [
    "new_list.append('six')"
   ]
  },
  {
   "cell_type": "code",
   "execution_count": 25,
   "id": "060542af-2e7b-491d-a138-eebc3947c8c2",
   "metadata": {},
   "outputs": [
    {
     "data": {
      "text/plain": [
       "['MI', 'Two', 'Three', 'four', 'Five', 'six']"
      ]
     },
     "execution_count": 25,
     "metadata": {},
     "output_type": "execute_result"
    }
   ],
   "source": [
    "new_list"
   ]
  },
  {
   "cell_type": "code",
   "execution_count": 27,
   "id": "fb80210c-7717-4a3a-8958-f45ec225eed0",
   "metadata": {},
   "outputs": [],
   "source": [
    "new_list.append('sevem')"
   ]
  },
  {
   "cell_type": "code",
   "execution_count": 29,
   "id": "a3fb0d1f-5f0f-460f-96c0-7b9911503b6d",
   "metadata": {},
   "outputs": [
    {
     "data": {
      "text/plain": [
       "['MI', 'Two', 'Three', 'four', 'Five', 'six', 'sevem']"
      ]
     },
     "execution_count": 29,
     "metadata": {},
     "output_type": "execute_result"
    }
   ],
   "source": [
    "new_list"
   ]
  },
  {
   "cell_type": "code",
   "execution_count": 31,
   "id": "dfa177ed-c7f5-4acb-9cba-02292753a810",
   "metadata": {},
   "outputs": [
    {
     "data": {
      "text/plain": [
       "'sevem'"
      ]
     },
     "execution_count": 31,
     "metadata": {},
     "output_type": "execute_result"
    }
   ],
   "source": [
    "new_list.pop()"
   ]
  },
  {
   "cell_type": "code",
   "execution_count": 33,
   "id": "f984ead4-b73e-4f3e-8d79-f9f85a666b50",
   "metadata": {},
   "outputs": [
    {
     "data": {
      "text/plain": [
       "['MI', 'Two', 'Three', 'four', 'Five', 'six']"
      ]
     },
     "execution_count": 33,
     "metadata": {},
     "output_type": "execute_result"
    }
   ],
   "source": [
    "new_list"
   ]
  },
  {
   "cell_type": "code",
   "execution_count": 35,
   "id": "ebf6c801-818b-4d39-b668-aa1c1d38b6ea",
   "metadata": {},
   "outputs": [
    {
     "data": {
      "text/plain": [
       "'MI'"
      ]
     },
     "execution_count": 35,
     "metadata": {},
     "output_type": "execute_result"
    }
   ],
   "source": [
    "new_list.pop(0)"
   ]
  },
  {
   "cell_type": "code",
   "execution_count": 37,
   "id": "bb7e2c12-cad0-4c5b-a864-542ce27d6a73",
   "metadata": {},
   "outputs": [
    {
     "data": {
      "text/plain": [
       "['Two', 'Three', 'four', 'Five', 'six']"
      ]
     },
     "execution_count": 37,
     "metadata": {},
     "output_type": "execute_result"
    }
   ],
   "source": [
    "new_list"
   ]
  },
  {
   "cell_type": "code",
   "execution_count": 39,
   "id": "b1dcedee-17f3-47e8-b495-c3b7ca91f4d5",
   "metadata": {},
   "outputs": [
    {
     "ename": "TypeError",
     "evalue": "list.append() takes exactly one argument (2 given)",
     "output_type": "error",
     "traceback": [
      "\u001b[1;31m---------------------------------------------------------------------------\u001b[0m",
      "\u001b[1;31mTypeError\u001b[0m                                 Traceback (most recent call last)",
      "Cell \u001b[1;32mIn[39], line 1\u001b[0m\n\u001b[1;32m----> 1\u001b[0m \u001b[43mnew_list\u001b[49m\u001b[38;5;241;43m.\u001b[39;49m\u001b[43mappend\u001b[49m\u001b[43m(\u001b[49m\u001b[38;5;241;43m0\u001b[39;49m\u001b[43m,\u001b[49m\u001b[38;5;124;43m'\u001b[39;49m\u001b[38;5;124;43mone\u001b[39;49m\u001b[38;5;124;43m'\u001b[39;49m\u001b[43m)\u001b[49m\n",
      "\u001b[1;31mTypeError\u001b[0m: list.append() takes exactly one argument (2 given)"
     ]
    }
   ],
   "source": [
    "new_list.append(0,'one')"
   ]
  },
  {
   "cell_type": "code",
   "execution_count": 41,
   "id": "80563aaa-dc34-4bb4-89ce-f25a2933f24b",
   "metadata": {},
   "outputs": [],
   "source": [
    "new_list=['a','i','u','o','e']"
   ]
  },
  {
   "cell_type": "code",
   "execution_count": 43,
   "id": "433cad56-d597-4bd3-8d5c-7a553afc6fe3",
   "metadata": {},
   "outputs": [],
   "source": [
    "new_list.sort()"
   ]
  },
  {
   "cell_type": "code",
   "execution_count": 45,
   "id": "39248f17-6775-449b-b817-53530b2bc563",
   "metadata": {},
   "outputs": [
    {
     "data": {
      "text/plain": [
       "['a', 'e', 'i', 'o', 'u']"
      ]
     },
     "execution_count": 45,
     "metadata": {},
     "output_type": "execute_result"
    }
   ],
   "source": [
    "new_list"
   ]
  },
  {
   "cell_type": "code",
   "execution_count": null,
   "id": "93dd51db-f576-4f59-8695-027d22f5c133",
   "metadata": {},
   "outputs": [],
   "source": [
    "num_list=[3,4,2,8,"
   ]
  }
 ],
 "metadata": {
  "kernelspec": {
   "display_name": "Python 3 (ipykernel)",
   "language": "python",
   "name": "python3"
  },
  "language_info": {
   "codemirror_mode": {
    "name": "ipython",
    "version": 3
   },
   "file_extension": ".py",
   "mimetype": "text/x-python",
   "name": "python",
   "nbconvert_exporter": "python",
   "pygments_lexer": "ipython3",
   "version": "3.12.7"
  }
 },
 "nbformat": 4,
 "nbformat_minor": 5
}
